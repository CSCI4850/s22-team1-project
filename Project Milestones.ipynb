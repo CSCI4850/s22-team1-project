{
 "cells": [
  {
   "cell_type": "markdown",
   "id": "714025d2-9b68-49cc-b6bd-ea50a507184e",
   "metadata": {},
   "source": [
    "## Project Milestone 1\n",
    "## Due: Mar. 15"
   ]
  },
  {
   "cell_type": "markdown",
   "id": "108a2f73-83e5-4c3a-9e88-6f00c38d402a",
   "metadata": {},
   "source": [
    "Deliverable | Percent Complete | Estimated Completion Time | Percent Complete by Next Milestone\n",
    "--- | --- | --- | ---\n",
    "Code | 0% | Apr 14 | 10%\n",
    "Demo | 0% | May 1 | 5%\n",
    "Presentation | 0% | May 3 | 5%"
   ]
  },
  {
   "cell_type": "markdown",
   "id": "a6f3b2e6-df8f-432b-b982-16ea5c4d2dfd",
   "metadata": {},
   "source": [
    "### Question 1: What deliverable goals established in the last milestone report were accomplished to the anticipated percentage? \n",
    "### N/A "
   ]
  },
  {
   "cell_type": "markdown",
   "id": "966c35bb-4746-4e29-87b1-00864e2e4df0",
   "metadata": {},
   "source": [
    "### Question 2: What deliverable goals established in the last milestone report were were not accomplished to the anticipated percentage? \n",
    "### N/A"
   ]
  },
  {
   "cell_type": "markdown",
   "id": "eae4b124-b338-419d-893e-68bd5d08770c",
   "metadata": {},
   "source": [
    "### Question 3: What are the main deliverable goals to meet before the next milestone report, and who is working on them? \n",
    "### The main goal for the next milestone is to finish 10-15% of the code which will be done by Brice and Andrew. Usman, Lucas, and Caleb will be working on researching for the paper and finding datasets that can be used. It would be benefical, if we started brainstorming for the demo and presentation. The goal is to get all the 3 deliverable past the research phase. "
   ]
  },
  {
   "cell_type": "markdown",
   "id": "80a6e5f9-d617-4620-b824-ea3c1b76060a",
   "metadata": {},
   "source": [
    "## Project Milestone 2\n",
    "## Due: Mar. 21"
   ]
  },
  {
   "cell_type": "markdown",
   "id": "1ee6f8a8-0b1d-4bd5-812b-0a54f2bdd5be",
   "metadata": {},
   "source": [
    "Deliverable | Percent Complete | Estimated Completion Time | Percent Complete by Next Milestone\n",
    "--- | --- | --- | ---\n",
    "Code | 5% | Apr 14 | 20%\n",
    "Demo | 0% | May 1 | 0%\n",
    "Presentation | 0% | May 3 | 0%"
   ]
  },
  {
   "cell_type": "markdown",
   "id": "b40f9359-a699-4106-ab3b-62d75ec4c6a5",
   "metadata": {},
   "source": [
    "### Question 1: What deliverable goals established in the last milestone report were accomplished to the anticipated percentage? \n",
    "### We did find datasets for what we will need.  While tangible code hasn't been written, there has been progress on figuring out how the neural nets will work together and narrowing down the inputs and outputs we will actually need from each dataset."
   ]
  },
  {
   "cell_type": "markdown",
   "id": "007230a1-8ee6-4a8b-8495-b7c40e5d5620",
   "metadata": {},
   "source": [
    "### Question 2: What deliverable goals established in the last milestone report were were not accomplished to the anticipated percentage? \n",
    "### We did not begin on the demo or presentation, and will wait until we have the code in a better place to begin those steps.  As mentioned in question 1, progress was made on how the code will be put together, but tangible code was not written."
   ]
  },
  {
   "cell_type": "markdown",
   "id": "e82409ca-403c-40d8-9005-c1dfc6d26602",
   "metadata": {},
   "source": [
    "### Question 3: What are the main deliverable goals to meet before the next milestone report, and who is working on them? \n",
    "### Brice and Andrew will continue working on sorting out the datasets for the middle portions of the project to link everything together.  That will take time to figure out and is not expected to be completely finished by the next report.  Meanwhile, Usman, Lucas, and Caleb will start with the steps on either end of the project: the photo identification neural nets.  For now, we will focus on work for the code before the demo or presentation."
   ]
  }
 ],
 "metadata": {
  "kernelspec": {
   "display_name": "Python 3 (ipykernel)",
   "language": "python",
   "name": "python3"
  },
  "language_info": {
   "codemirror_mode": {
    "name": "ipython",
    "version": 3
   },
   "file_extension": ".py",
   "mimetype": "text/x-python",
   "name": "python",
   "nbconvert_exporter": "python",
   "pygments_lexer": "ipython3",
   "version": "3.9.7"
  }
 },
 "nbformat": 4,
 "nbformat_minor": 5
}
