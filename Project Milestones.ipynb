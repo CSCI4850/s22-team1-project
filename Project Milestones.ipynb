{
 "cells": [
  {
   "cell_type": "markdown",
   "id": "714025d2-9b68-49cc-b6bd-ea50a507184e",
   "metadata": {},
   "source": [
    "## Project Milestone 1\n",
    "## Due: Mar. 15"
   ]
  },
  {
   "cell_type": "markdown",
   "id": "108a2f73-83e5-4c3a-9e88-6f00c38d402a",
   "metadata": {},
   "source": [
    "Deliverable | Percent Complete | Estimated Completion Time | Percent Complete by Next Milestone\n",
    "--- | --- | --- | ---\n",
    "Code | 0% | Apr 14 | 10%\n",
    "Demo | 0% | May 1 | 5%\n",
    "Presentation | 0% | May 3 | 5%"
   ]
  },
  {
   "cell_type": "markdown",
   "id": "a6f3b2e6-df8f-432b-b982-16ea5c4d2dfd",
   "metadata": {},
   "source": [
    "### Question 1: What deliverable goals established in the last milestone report were accomplished to the anticipated percentage? \n",
    "### N/A "
   ]
  },
  {
   "cell_type": "markdown",
   "id": "966c35bb-4746-4e29-87b1-00864e2e4df0",
   "metadata": {},
   "source": [
    "### Question 2: What deliverable goals established in the last milestone report were were not accomplished to the anticipated percentage? \n",
    "### N/A"
   ]
  },
  {
   "cell_type": "markdown",
   "id": "eae4b124-b338-419d-893e-68bd5d08770c",
   "metadata": {},
   "source": [
    "### Question 3: What are the main deliverable goals to meet before the next milestone report, and who is working on them? \n",
    "### The main goal for the next milestone is to finish 10-15% of the code which will be done by Brice and Andrew. Usman, Lucas, and Caleb will be working on researching for the paper and finding datasets that can be used. It would be benefical, if we started brainstorming for the demo and presentation. The goal is to get all the 3 deliverable past the research phase. "
   ]
  },
  {
   "cell_type": "markdown",
   "id": "80a6e5f9-d617-4620-b824-ea3c1b76060a",
   "metadata": {
    "tags": []
   },
   "source": [
    "## Project Milestone 2\n",
    "## Due: Mar. 21"
   ]
  },
  {
   "cell_type": "markdown",
   "id": "1ee6f8a8-0b1d-4bd5-812b-0a54f2bdd5be",
   "metadata": {},
   "source": [
    "Deliverable | Percent Complete | Estimated Completion Time | Percent Complete by Next Milestone\n",
    "--- | --- | --- | ---\n",
    "Code | 5% | Apr 14 | 20%\n",
    "Demo | 0% | May 1 | 0%\n",
    "Presentation | 0% | May 3 | 0%"
   ]
  },
  {
   "cell_type": "markdown",
   "id": "b40f9359-a699-4106-ab3b-62d75ec4c6a5",
   "metadata": {},
   "source": [
    "### Question 1: What deliverable goals established in the last milestone report were accomplished to the anticipated percentage? \n",
    "### We did find datasets for what we will need.  While tangible code hasn't been written, there has been progress on figuring out how the neural nets will work together and narrowing down the inputs and outputs we will actually need from each dataset."
   ]
  },
  {
   "cell_type": "markdown",
   "id": "007230a1-8ee6-4a8b-8495-b7c40e5d5620",
   "metadata": {
    "jp-MarkdownHeadingCollapsed": true,
    "tags": []
   },
   "source": [
    "### Question 2: What deliverable goals established in the last milestone report were were not accomplished to the anticipated percentage? \n",
    "### We did not begin on the demo or presentation, and will wait until we have the code in a better place to begin those steps.  As mentioned in question 1, progress was made on how the code will be put together, but tangible code was not written."
   ]
  },
  {
   "cell_type": "markdown",
   "id": "e82409ca-403c-40d8-9005-c1dfc6d26602",
   "metadata": {
    "jp-MarkdownHeadingCollapsed": true,
    "tags": []
   },
   "source": [
    "### Question 3: What are the main deliverable goals to meet before the next milestone report, and who is working on them? \n",
    "### Brice and Andrew will continue working on sorting out the datasets for the middle portions of the project to link everything together.  That will take time to figure out and is not expected to be completely finished by the next report.  Meanwhile, Usman, Lucas, and Caleb will start with the steps on either end of the project: the photo identification neural nets.  For now, we will focus on work for the code before the demo or presentation."
   ]
  },
  {
   "cell_type": "markdown",
   "id": "586e4888-f33e-48d6-99da-7ba7d827284d",
   "metadata": {
    "tags": []
   },
   "source": [
    "## Project Milestone 3\n",
    "## Due: Mar. 28"
   ]
  },
  {
   "cell_type": "markdown",
   "id": "a07529de-4550-4317-8313-8b1668d63634",
   "metadata": {},
   "source": [
    "Deliverable | Percent Complete | Estimated Completion Time | Percent Complete by Next Milestone\n",
    "--- | --- | --- | ---\n",
    "Code | 15% | Apr 14 | 35%\n",
    "Demo | 0% | May 1 | 0%\n",
    "Presentation | 0% | May 3 | 0%"
   ]
  },
  {
   "cell_type": "markdown",
   "id": "c1c98d2d-d450-409b-8744-59a82137c07c",
   "metadata": {},
   "source": [
    "### Question 1: What deliverable goals established in the last milestone report were accomplished to the anticipated percentage? \n",
    "### Our current data sets were reformatted to be in a usable format for photo identifiers similar to our OLAs. Due to losing a team member and some issues with loading our large amounts of data, we have made plans to scale back how much data we will be using and how specific the animal identifiers will be. Rather than focusing on breeds, the breed categories will be combined into general similar categories to better match with the limited number of human compatibility traits we can distinguish. We also had issues with licensing a dataset, so major changes have been made to the data we will be using for the human identification portion of the project. This new dataset is almost complete."
   ]
  },
  {
   "cell_type": "markdown",
   "id": "c005f03c-90bd-4edc-a4ed-1f1379e1e62b",
   "metadata": {
    "jp-MarkdownHeadingCollapsed": true,
    "tags": []
   },
   "source": [
    "### Question 2: What deliverable goals established in the last milestone report were were not accomplished to the anticipated percentage? \n",
    "### A necessary dataset for some of the personality identification turned out to not be usable, so we have had to make changes to the plan for that portion. Brice has been working on handling the changes to that portion of the project."
   ]
  },
  {
   "cell_type": "markdown",
   "id": "c9f7f993-d8b7-426d-ac35-5a7ffe2acfef",
   "metadata": {
    "tags": []
   },
   "source": [
    "### Question 3: What are the main deliverable goals to meet before the next milestone report, and who is working on them? \n",
    "### Brice will be working on the human traits network, Lucas will be working on the animal identification network, Caleb will be working on the dog type identifier, and Andrew will be working on the cat type identifier. We hope to have some progress started on all of these parts."
   ]
  },
  {
   "cell_type": "markdown",
   "id": "81f1766b-fb62-4cad-bbb6-3f9803d45a58",
   "metadata": {
    "tags": []
   },
   "source": [
    "## Project Milestone 4\n",
    "## Due: Apr. 4"
   ]
  },
  {
   "cell_type": "markdown",
   "id": "5a0e9e7a-8f65-440d-9a21-acdccf8bd19b",
   "metadata": {},
   "source": [
    "Deliverable | Percent Complete | Estimated Completion Time | Percent Complete by Next Milestone\n",
    "--- | --- | --- | ---\n",
    "Code | 30% | Apr 14 | 50%\n",
    "Demo | 0% | May 1 | 0%\n",
    "Presentation | 0% | May 3 | 0%"
   ]
  },
  {
   "cell_type": "markdown",
   "id": "4b329b91-29ea-4e1b-b4f2-c72949b92717",
   "metadata": {},
   "source": [
    "### Question 1: What deliverable goals established in the last milestone report were accomplished to the anticipated percentage? \n",
    "### The human trait network has begun development, and data is being prepared for it.  The dog dataset has been prepared and a network has begun training."
   ]
  },
  {
   "cell_type": "markdown",
   "id": "4e6b4dd8-e40d-4573-bce1-bece6ea29af6",
   "metadata": {
    "jp-MarkdownHeadingCollapsed": true,
    "tags": []
   },
   "source": [
    "### Question 2: What deliverable goals established in the last milestone report were were not accomplished to the anticipated percentage? \n",
    "### A cat dataset was found, but work still needs to be done on it before it's ready for training in a network."
   ]
  },
  {
   "cell_type": "markdown",
   "id": "f2b25288-dc45-457d-afe1-fa598db95cf7",
   "metadata": {
    "tags": []
   },
   "source": [
    "### Question 3: What are the main deliverable goals to meet before the next milestone report, and who is working on them? \n",
    "### Brice will be continue work on the human traits network, Andrew will be continuing the cat type identifier, and Caleb will be continuing the dog type identifier.  Andrew and Caleb will need to discuss the animal identification that leads to their networks."
   ]
  }
 ],
 "metadata": {
  "kernelspec": {
   "display_name": "Python 3 (ipykernel)",
   "language": "python",
   "name": "python3"
  },
  "language_info": {
   "codemirror_mode": {
    "name": "ipython",
    "version": 3
   },
   "file_extension": ".py",
   "mimetype": "text/x-python",
   "name": "python",
   "nbconvert_exporter": "python",
   "pygments_lexer": "ipython3",
   "version": "3.9.7"
  }
 },
 "nbformat": 4,
 "nbformat_minor": 5
}
