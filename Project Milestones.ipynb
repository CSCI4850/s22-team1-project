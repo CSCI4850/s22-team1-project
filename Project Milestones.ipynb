{
 "cells": [
  {
   "cell_type": "markdown",
   "id": "714025d2-9b68-49cc-b6bd-ea50a507184e",
   "metadata": {},
   "source": [
    "## Project Milestone 1\n",
    "## Due: Mar. 15"
   ]
  },
  {
   "cell_type": "markdown",
   "id": "108a2f73-83e5-4c3a-9e88-6f00c38d402a",
   "metadata": {},
   "source": [
    "Deliverable | Percent Complete | Estimated Completion Time | Percent Complete by Next Milestone\n",
    "--- | --- | --- | ---\n",
    "Code | 0% | Apr 14 | 10%\n",
    "Demo | 0% | May 1 | 5%\n",
    "Presentation | 0% | May 3 | 5%"
   ]
  },
  {
   "cell_type": "markdown",
   "id": "a6f3b2e6-df8f-432b-b982-16ea5c4d2dfd",
   "metadata": {},
   "source": [
    "### Question 1: Does your report have the necessary table, filled with the correct information?\n",
    "### Yes and as fully as possible. "
   ]
  },
  {
   "cell_type": "markdown",
   "id": "966c35bb-4746-4e29-87b1-00864e2e4df0",
   "metadata": {},
   "source": [
    "### Question 2: Does your report answer the questions above clearly and concisely? \n",
    "### Yes and as fully as possible."
   ]
  },
  {
   "cell_type": "markdown",
   "id": "eae4b124-b338-419d-893e-68bd5d08770c",
   "metadata": {},
   "source": [
    "### Question 3: Does each team member have a role to play in helping to meet the goals of the next milestone? \n",
    "### The main goal for the next milestone is to finish 10-15% of the code which will be done by Brice and Andrew. Usman, Lucas, and Caleb will be working on researching for the paper and finding datasets that can be used. It would be benefical, if we started brainstorming for the demo and presentation. The goal is to get all the 3 deliverable past the research phase. "
   ]
  },
  {
   "cell_type": "code",
   "execution_count": null,
   "id": "e7613f45-92fb-4738-bcdc-c316c07a27b1",
   "metadata": {},
   "outputs": [],
   "source": []
  }
 ],
 "metadata": {
  "kernelspec": {
   "display_name": "Python 3 (ipykernel)",
   "language": "python",
   "name": "python3"
  },
  "language_info": {
   "codemirror_mode": {
    "name": "ipython",
    "version": 3
   },
   "file_extension": ".py",
   "mimetype": "text/x-python",
   "name": "python",
   "nbconvert_exporter": "python",
   "pygments_lexer": "ipython3",
   "version": "3.9.7"
  }
 },
 "nbformat": 4,
 "nbformat_minor": 5
}
