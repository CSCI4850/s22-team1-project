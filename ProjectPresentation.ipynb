{
 "cells": [
  {
   "cell_type": "markdown",
   "id": "23928f81-bb47-4792-b21a-3980f068fa90",
   "metadata": {},
   "source": [
    "<div class=\"alert alert-block alert-info\">\n",
    "    <b>Project Presentation</b> <br><span> <font font-size=10pt>Brice Roberts - Caleb Griffy - Andrew Johnson - Usman Saeed - Lucas Pillago </font></span> \n",
    "</div>\n",
    "\n",
    "<div class=\"alert alert-block alert-danger\">\n",
    "    <b>LSTM Project - Animal Recognition</b> <font font-size=14pt></font>\n",
    "</div>"
   ]
  },
  {
   "cell_type": "markdown",
   "id": "2f75bb31-2bc0-490e-a32a-09baf2530992",
   "metadata": {},
   "source": [
    "<font font-size=12pt><b>INTRODUCTION</b></font><br>\n",
    "<font font-size=10pt>Our goal is to develop a model that uses existing datasets to identify commonalities between randomly selected survey data for pet owner practices and preferences, to project this data across a facial recognition model that identifies these factors in randomly selected images of people from a defined group of owner profile identifiers.<br><br>\n",
    "This model intends to identify cat or dog people based on these visual cues, and could be developed and advanced for many different advertising and marketing implementations. The idea is to design a learning model that could be used to better focus marketing efforts in the real world and social media applications. Paired with a camera, this model could help eliminate wasted sales efforts, by identifying more likely customers. It could also be used to help future pet owners decide what might be the right choice for them, but even this concept could have marketing applications.\n",
    "</font>\n"
   ]
  },
  {
   "cell_type": "markdown",
   "id": "d0cebef4-340d-4d70-8ed4-cd23370939c7",
   "metadata": {},
   "source": [
    "<font font-size=12pt><b>DATA</b></font><br>\n",
    "<font font-size=10pt>Our dataset will be constructed from published survey data from the APPA (American Pet Products Association) to identify core owner preferences, and this will be projected across owner background information provided by Segmanta in the 2020 Big Pet Survey. This survey provides preference data categorized by gender, race, and many other socioeconomic indicators.  <br><br>\n",
    "This model will then be projected across a model created using existing learning models. Our intention is to use an existing template in the resources provided by Jason Brownlee at machinelearningmastery.com. This template will serve to construct a facial recognition model that our refined data can be compared against.\n",
    "</font>"
   ]
  },
  {
   "cell_type": "markdown",
   "id": "0cfc8bac-4c10-4652-ab60-d81d0951af22",
   "metadata": {},
   "source": [
    "<font font-size=12pt><b>METHODS</b></font><br>\n",
    "<font font-size=10pt>The owner profile information will be refined using existing surveys and needs reformatting to identify the best and most refined classes for information. The surveys we plan to use include a great deal of information, far more data in each step then we will need. We intend to use as few indicators as possible initially, so more progress will be needed before final indications are defined.<br><br>\n",
    "Facial recognition and detection is a rapidly advancing discipline that is still not perfectly implemented, so we do not intend to reinvent much in our facial detection model. We will focus on the steps for identifying and matching faces, so generic classifications are more likely to work in this regard. Limitations will need to be refined as the project continues, but as a baseline factors like gender, sex, and simple emotions are crucial to connect with our pet owner profile information.<br><br>\n",
    "We have also identified many other potential sources of survey data if our model is successful to further refine our learning, and these will be added in the addendum section as required.\n",
    "</font>"
   ]
  },
  {
   "cell_type": "markdown",
   "id": "76a4249c-1ab7-4b97-927b-de353f33eb23",
   "metadata": {},
   "source": [
    "<font font-size=12pt><b>Sources</b></font><br>\n",
    "<font font-size=10pt>\n",
    "[1]2021-2022APPA National Pet Owners Survey. American Pet Products Association. (n.d.). Retrieved March 3, 2022, from https://www.americanpetproducts.org/pubs_survey.asp <br>\n",
    "[2]The Big Pets Survey 2020. Segmanta. (n.d.). Retrieved March 3, 2022, from https://segmanta.com/the-big-pet-survey-insights-2020/ <br>\n",
    "[3]Brownlee, J. (2019, July 5). A gentle introduction to deep learning for face recognition. Machine Learning Mastery. Retrieved March 3, 2022, from https://machinelearningmastery.com/introduction-to-deep-learning-for-face-recognition/ <br>\n",
    "[4]Noor, T. (2017, March 25). Facial recognition using Deep Learning. Medium. Retrieved March 3, 2022, from https://towardsdatascience.com/facial-recognition-using-deep-learning-a74e9059a150 \n",
    "TY  - JOUR AU  - Gosling, Samuel AU  - Sandy, Carson AU  - Potter, Jeff PY,2010/09/01 SP-213 EP  - 222 T1  - Personalities of Self-Identified “Dog People” and “Cat People” VL  - 23 DO  - 10.2752/175303710X12750451258850 JO  - Anthrozoos: A Multidisciplinary Journal of The Interactions of People & Animals ER  -   ", 
    " </font>"
   ]
  },
  {
   "cell_type": "markdown",
   "id": "1d715a86-2474-45b3-98ae-ca5c19acec5e",
   "metadata": {},
   "source": [
    "<font font-size=12pt><b>Addendum</b></font><br>\n",
    "<font font-size=10pt>\n",
    "\\<to be determined>\n",
    "</font>"
   ]
  },
  {
   "cell_type": "code",
   "execution_count": null,
   "id": "d222c909-4049-472e-b57f-eac82566b59f",
   "metadata": {},
   "outputs": [],
   "source": []
  }
 ],
 "metadata": {
  "kernelspec": {
   "display_name": "Python 3 (ipykernel)",
   "language": "python",
   "name": "python3"
  },
  "language_info": {
   "codemirror_mode": {
    "name": "ipython",
    "version": 3
   },
   "file_extension": ".py",
   "mimetype": "text/x-python",
   "name": "python",
   "nbconvert_exporter": "python",
   "pygments_lexer": "ipython3",
   "version": "3.9.7"
  }
 },
 "nbformat": 4,
 "nbformat_minor": 5
}
