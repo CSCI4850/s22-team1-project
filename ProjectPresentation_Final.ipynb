{
  "cells": [
    {
      "cell_type": "markdown",
      "id": "23928f81-bb47-4792-b21a-3980f068fa90",
      "metadata": {
        "id": "23928f81-bb47-4792-b21a-3980f068fa90"
      },
      "source": [
        "<div class=\"alert alert-block alert-info\">\n",
        "    <b>Project Presentation</b> <br><span> <font font-size=10pt>Brice Roberts - Caleb Griffy - Andrew Johnson - Lucas Pillaga </font></span> \n",
        "</div>\n",
        "\n",
        "<div class=\"alert alert-block alert-danger\">\n",
        "    <b>LSTM Project - Animal Recognition</b> <font font-size=14pt></font>\n",
        "</div>"
      ]
    },
    {
      "cell_type": "markdown",
      "id": "2f75bb31-2bc0-490e-a32a-09baf2530992",
      "metadata": {
        "id": "2f75bb31-2bc0-490e-a32a-09baf2530992"
      },
      "source": [
        "<font font-size=12pt><b>INTRODUCTION</b></font><br>\n",
        "<font font-size=10pt>Our goal is to develop a model that uses existing datasets to identify commonalities between randomly selected survey data for pet owner practices and preferences, to project this data across a facial recognition model that identifies these factors in randomly selected images of people from a defined group of owner profile identifiers.<br><br>\n",
        "This model intends to identify cat or dog people based on these visual cues, and could be developed and advanced for many different advertising and marketing implementations. The idea is to design a learning model that could be used to better focus marketing efforts in the real world and social media applications. Paired with a camera, this model could help eliminate wasted sales efforts, by identifying more likely customers. It could also be used to help future pet owners decide what might be the right choice for them, but even this concept could have marketing applications.\n",
        "</font>\n"
      ]
    },
    {
      "cell_type": "markdown",
      "id": "d0cebef4-340d-4d70-8ed4-cd23370939c7",
      "metadata": {
        "id": "d0cebef4-340d-4d70-8ed4-cd23370939c7"
      },
      "source": [
        "<font font-size=12pt><b>DATA</b></font><br>\n",
        "<font font-size=10pt>Our dataset will be constructed from published survey data from the APPA (American Pet Products Association) to identify core owner preferences, and this will be projected across owner background information provided by Segmanta in the 2020 Big Pet Survey. This survey provides preference data categorized by gender, race, and many other socioeconomic indicators.  <br><br>\n",
        "This entire dataset was unable to be obtained, so we attempt to create a mirror of this dataset using simple emotions and annotating dog and cat breeds according to trends publicly available from the APPA dataset. <br>\n",
        "This model will then be projected across a model created to classify dogs and cats using existing learning model templates from our course Lab Work. Our intention is to use an existing template in the resources provided by Jerin Paul at freecodecamp.com. This template will serve to construct a facial recognition model that our refined data can be compared against.\n",
        "</font>"
      ]
    },
    {
      "cell_type": "markdown",
      "id": "0cfc8bac-4c10-4652-ab60-d81d0951af22",
      "metadata": {
        "id": "0cfc8bac-4c10-4652-ab60-d81d0951af22"
      },
      "source": [
        "<font font-size=12pt><b>METHODS</b></font><br>\n",
        "<font font-size=10pt>The owner profile information will be refined using existing surveys and needs reformatting to identify the best and most refined classes for information. The surveys we plan to use include a great deal of information, far more data in each step then we will need. We intend to use as few indicators as possible initially, so more progress will be needed before final indications are defined.<br><br>\n",
        "Facial recognition and detection is a rapidly advancing discipline that is still not perfectly implemented, so we do not intend to reinvent much in our facial detection model. We will focus on the steps for identifying and matching faces, so generic classifications are more likely to work in this regard. Limitations will need to be refined as the project continues, but as a baseline factors like gender, sex, and simple emotions are crucial to connect with our pet owner profile information.<br><br>\n",
        "We have also identified many other potential sources of survey data if our model is successful to further refine our learning, and these will be added in the addendum section as required.\n",
        "</font>"
      ]
    },
    {
      "cell_type": "markdown",
      "id": "76a4249c-1ab7-4b97-927b-de353f33eb23",
      "metadata": {
        "id": "76a4249c-1ab7-4b97-927b-de353f33eb23"
      },
      "source": [
        "<font font-size=12pt><b>Sources</b></font><br>\n",
        "<font font-size=10pt>\n",
        "[1]2021-2022APPA National Pet Owners Survey. American Pet Products Association. (n.d.). Retrieved March 3, 2022, from https://www.americanpetproducts.org/pubs_survey.asp <br>\n",
        "[2]The Big Pets Survey 2020. Segmanta. (n.d.). Retrieved March 3, 2022, from https://segmanta.com/the-big-pet-survey-insights-2020/ <br>\n",
        "[3]Brownlee, J. (2019, July 5). A gentle introduction to deep learning for face recognition. Machine Learning Mastery. Retrieved March 3, 2022, from https://machinelearningmastery.com/introduction-to-deep-learning-for-face-recognition/ <br>\n",
        "[4]Noor, T. (2017, March 25). Facial recognition using Deep Learning. Medium. Retrieved March 3, 2022, from https://towardsdatascience.com/facial-recognition-using-deep-learning-a74e9059a150 <br>\n",
        "[5]TY  - JOUR AU  - Gosling, Samuel AU  - Sandy, Carson AU  - Potter, Jeff PY,2010/09/01 SP-213 EP  - 222 T1  - Personalities of Self-Identified “Dog People” and “Cat People” VL  - 23 DO  - 10.2752/175303710X12750451258850 JO  - Anthrozoos: A Multidisciplinary Journal of The Interactions of People & Animals ER <br>\n",
        "[6]Gerry. (2021, July 1). 70 dog breeds-image data set. Kaggle. Retrieved March 21, 2022, from https://www.kaggle.com/datasets/gpiosenka/70-dog-breedsimage-data-set<br>\n",
        "[7]American Kennel Club. (n.d.). List of breeds by Group. American Kennel Club. Retrieved March 27, 2022, from https://www.akc.org/public-education/resources/general-tips-information/dog-breeds-sorted-groups/ <br>\n",
        "[8]ma7555 (2019, December 12). “Cat Breeds Dataset.” Kaggle. Retrieved April 1, 2022, from https://www.kaggle.com/datasets/ma7555/cat-breeds-dataset. <br>\n",
        "[9] Paul, Jerrin, https://www.freecodecamp.org/news/facial-emotion-recognition-develop-a-c-n-n-and-break-into-kaggle-top-10-f618c024faa7/<br>\n",
        "</font>\n"
      ]
    },
    {
      "cell_type": "markdown",
      "id": "1d715a86-2474-45b3-98ae-ca5c19acec5e",
      "metadata": {
        "id": "1d715a86-2474-45b3-98ae-ca5c19acec5e"
      },
      "source": [
        "<font font-size=12pt><b>Addendum</b></font><br>\n",
        "<font font-size=10pt>\n",
        "\\<to be determined>\n",
        "</font>"
      ]
    }
  ],
  "metadata": {
    "kernelspec": {
      "display_name": "Python 3 (ipykernel)",
      "language": "python",
      "name": "python3"
    },
    "language_info": {
      "codemirror_mode": {
        "name": "ipython",
        "version": 3
      },
      "file_extension": ".py",
      "mimetype": "text/x-python",
      "name": "python",
      "nbconvert_exporter": "python",
      "pygments_lexer": "ipython3",
      "version": "3.9.7"
    },
    "colab": {
      "name": "Copy of ProjectPresentation.ipynb",
      "provenance": []
    }
  },
  "nbformat": 4,
  "nbformat_minor": 5
}
