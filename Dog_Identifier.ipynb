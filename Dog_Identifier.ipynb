{
 "cells": [
  {
   "cell_type": "code",
   "execution_count": 1,
   "id": "60289e10-0614-4b52-88f1-38cf8454c735",
   "metadata": {},
   "outputs": [],
   "source": [
    "import tensorflow.keras as keras\n",
    "from tensorflow.keras import backend as K\n",
    "import numpy as np\n",
    "from IPython.display import display\n",
    "import matplotlib.pyplot as plt\n",
    "from mpl_toolkits.mplot3d import axes3d\n",
    "%matplotlib inline"
   ]
  },
  {
   "cell_type": "code",
   "execution_count": 2,
   "id": "0cf4e42c-9731-4853-b402-06bdab6fe182",
   "metadata": {},
   "outputs": [],
   "source": [
    "# First a few tools for this -particular- example...\n",
    "from keras.applications.xception import Xception\n",
    "from keras.preprocessing import image\n",
    "from keras.applications.xception import preprocess_input, decode_predictions"
   ]
  },
  {
   "cell_type": "code",
   "execution_count": 3,
   "id": "55bcf816-2fa2-4baf-9d1a-568de1722181",
   "metadata": {},
   "outputs": [
    {
     "data": {
      "text/plain": [
       "(1500, 200, 200, 3)"
      ]
     },
     "execution_count": 3,
     "metadata": {},
     "output_type": "execute_result"
    }
   ],
   "source": [
    "def grab_image(img_path):\n",
    "    img = image.load_img(img_path, target_size=(200,200))\n",
    "    x = image.img_to_array(img)\n",
    "    x = np.expand_dims(x, axis=0)\n",
    "    x = preprocess_input(x)\n",
    "    return x\n",
    "X = np.concatenate(\n",
    " [grab_image('./dog_images/dog_%d.jpg'%(i))\n",
    " for i in range(1500)])\n",
    "X.shape"
   ]
  },
  {
   "cell_type": "code",
   "execution_count": 4,
   "id": "fecd6632-f5e7-4328-95e1-bae2142b20b4",
   "metadata": {},
   "outputs": [
    {
     "data": {
      "text/plain": [
       "array([1., 1., 3., 2., 3., 6., 4., 0., 1., 1.])"
      ]
     },
     "execution_count": 4,
     "metadata": {},
     "output_type": "execute_result"
    }
   ],
   "source": [
    "# 37 cats in there (label 1, and all else 0)\n",
    "Y = np.loadtxt('./dog_types.csv')\n",
    "# Take a look at the first 10...\n",
    "Y[0:10]"
   ]
  },
  {
   "cell_type": "code",
   "execution_count": 5,
   "id": "2505d4a9-451d-4347-b77c-2ea84e3c831d",
   "metadata": {},
   "outputs": [
    {
     "name": "stderr",
     "output_type": "stream",
     "text": [
      "2022-04-28 01:04:19.865196: W tensorflow/stream_executor/platform/default/dso_loader.cc:64] Could not load dynamic library 'libcuda.so.1'; dlerror: libcuda.so.1: cannot open shared object file: No such file or directory\n",
      "2022-04-28 01:04:19.865258: W tensorflow/stream_executor/cuda/cuda_driver.cc:269] failed call to cuInit: UNKNOWN ERROR (303)\n",
      "2022-04-28 01:04:19.865309: I tensorflow/stream_executor/cuda/cuda_diagnostics.cc:156] kernel driver does not appear to be running on this host (jupyter-cgg3a): /proc/driver/nvidia/version does not exist\n",
      "2022-04-28 01:04:19.865689: I tensorflow/core/platform/cpu_feature_guard.cc:142] This TensorFlow binary is optimized with oneAPI Deep Neural Network Library (oneDNN) to use the following CPU instructions in performance-critical operations:  SSE4.1 SSE4.2 AVX FMA\n",
      "To enable them in other operations, rebuild TensorFlow with the appropriate compiler flags.\n",
      "/opt/conda/lib/python3.9/site-packages/keras/optimizer_v2/optimizer_v2.py:355: UserWarning: The `lr` argument is deprecated, use `learning_rate` instead.\n",
      "  warnings.warn(\n"
     ]
    }
   ],
   "source": [
    "# Note the input size (there is only one channel - intensity)\n",
    "# for these images...\n",
    "# Input Images (28, 28, 1)\n",
    "x = keras.layers.Input(X.shape[1:])\n",
    "y = x\n",
    "y = keras.layers.Conv2D(64, kernel_size=(4,4), activation='relu')(y)\n",
    "y = keras.layers.Conv2D(64, kernel_size=(4,4), activation='relu')(y)\n",
    "y = keras.layers.MaxPool2D(pool_size=(4,4))(y)\n",
    "#y = keras.layers.Dropout(0.25)(y)\n",
    "y = keras.layers.Flatten()(y)\n",
    "y = keras.layers.Dense(128, activation='relu')(y)\n",
    "y = keras.layers.Dense(128, activation='relu')(y)\n",
    "y = keras.layers.Dense(128, activation='relu')(y)\n",
    "#y = keras.layers.Dropout(0.25)(y)\n",
    "# Output Logits (10)\n",
    "y = keras.layers.Dense(len(np.unique(Y)))(y)\n",
    "model = keras.Model(x,y)\n",
    "model.compile(loss=keras.losses.SparseCategoricalCrossentropy(from_logits=True),\n",
    " optimizer=keras.optimizers.Adam(lr=0.01),\n",
    " metrics=[keras.metrics.SparseCategoricalAccuracy()])"
   ]
  },
  {
   "cell_type": "code",
   "execution_count": 6,
   "id": "7bddf6cf-0cd2-48b5-999f-6eedfa1dca16",
   "metadata": {},
   "outputs": [
    {
     "name": "stdout",
     "output_type": "stream",
     "text": [
      "Model: \"model\"\n",
      "_________________________________________________________________\n",
      "Layer (type)                 Output Shape              Param #   \n",
      "=================================================================\n",
      "input_1 (InputLayer)         [(None, 200, 200, 3)]     0         \n",
      "_________________________________________________________________\n",
      "conv2d (Conv2D)              (None, 197, 197, 64)      3136      \n",
      "_________________________________________________________________\n",
      "conv2d_1 (Conv2D)            (None, 194, 194, 64)      65600     \n",
      "_________________________________________________________________\n",
      "max_pooling2d (MaxPooling2D) (None, 48, 48, 64)        0         \n",
      "_________________________________________________________________\n",
      "flatten (Flatten)            (None, 147456)            0         \n",
      "_________________________________________________________________\n",
      "dense (Dense)                (None, 128)               18874496  \n",
      "_________________________________________________________________\n",
      "dense_1 (Dense)              (None, 128)               16512     \n",
      "_________________________________________________________________\n",
      "dense_2 (Dense)              (None, 128)               16512     \n",
      "_________________________________________________________________\n",
      "dense_3 (Dense)              (None, 7)                 903       \n",
      "=================================================================\n",
      "Total params: 18,977,159\n",
      "Trainable params: 18,977,159\n",
      "Non-trainable params: 0\n",
      "_________________________________________________________________\n"
     ]
    }
   ],
   "source": [
    "model.summary()"
   ]
  },
  {
   "cell_type": "code",
   "execution_count": 7,
   "id": "99975ec2-9b94-4bde-ba3a-3c2d1845a8e7",
   "metadata": {},
   "outputs": [],
   "source": [
    "data_generator = keras.preprocessing.image.ImageDataGenerator(\n",
    " width_shift_range=0.05,\n",
    " height_shift_range=0.05,\n",
    " horizontal_flip=True)\n",
    "split_point = 1200 # 80%/20% (48000,12000)\n",
    "dg_trainer = data_generator.flow(X,\n",
    " Y,\n",
    " batch_size=20)"
   ]
  },
  {
   "cell_type": "code",
   "execution_count": 8,
   "id": "71518426-327f-4cef-867d-753fb7ac224a",
   "metadata": {},
   "outputs": [
    {
     "name": "stderr",
     "output_type": "stream",
     "text": [
      "2022-04-28 01:04:21.298975: I tensorflow/compiler/mlir/mlir_graph_optimization_pass.cc:185] None of the MLIR Optimization Passes are enabled (registered 2)\n"
     ]
    },
    {
     "name": "stdout",
     "output_type": "stream",
     "text": [
      "Epoch 1/30\n",
      "75/75 [==============================] - 302s 4s/step - loss: 13.7097 - sparse_categorical_accuracy: 0.1633\n",
      "Epoch 2/30\n",
      "75/75 [==============================] - 299s 4s/step - loss: 1.9248 - sparse_categorical_accuracy: 0.1600\n",
      "Epoch 3/30\n",
      "75/75 [==============================] - 299s 4s/step - loss: 1.9225 - sparse_categorical_accuracy: 0.1767\n",
      "Epoch 4/30\n",
      "75/75 [==============================] - 296s 4s/step - loss: 1.9228 - sparse_categorical_accuracy: 0.1807\n",
      "Epoch 5/30\n",
      "75/75 [==============================] - 299s 4s/step - loss: 1.9237 - sparse_categorical_accuracy: 0.1673\n",
      "Epoch 6/30\n",
      "75/75 [==============================] - 299s 4s/step - loss: 1.9222 - sparse_categorical_accuracy: 0.1720\n",
      "Epoch 7/30\n",
      "75/75 [==============================] - 299s 4s/step - loss: 1.9209 - sparse_categorical_accuracy: 0.1700\n",
      "Epoch 8/30\n",
      "75/75 [==============================] - 299s 4s/step - loss: 1.9211 - sparse_categorical_accuracy: 0.1713\n",
      "Epoch 9/30\n",
      "75/75 [==============================] - 301s 4s/step - loss: 1.9209 - sparse_categorical_accuracy: 0.1693\n",
      "Epoch 10/30\n",
      "75/75 [==============================] - 302s 4s/step - loss: 1.9207 - sparse_categorical_accuracy: 0.1720\n",
      "Epoch 11/30\n",
      "75/75 [==============================] - 302s 4s/step - loss: 1.9206 - sparse_categorical_accuracy: 0.1680\n",
      "Epoch 12/30\n",
      "75/75 [==============================] - 296s 4s/step - loss: 1.9205 - sparse_categorical_accuracy: 0.1820\n",
      "Epoch 13/30\n",
      "75/75 [==============================] - 305s 4s/step - loss: 1.9204 - sparse_categorical_accuracy: 0.1733\n",
      "Epoch 14/30\n",
      "75/75 [==============================] - 305s 4s/step - loss: 1.9203 - sparse_categorical_accuracy: 0.1720\n",
      "Epoch 15/30\n",
      "75/75 [==============================] - 299s 4s/step - loss: 1.9205 - sparse_categorical_accuracy: 0.1733\n",
      "Epoch 16/30\n",
      "75/75 [==============================] - 305s 4s/step - loss: 1.9209 - sparse_categorical_accuracy: 0.1680\n",
      "Epoch 17/30\n",
      "75/75 [==============================] - 303s 4s/step - loss: 1.9211 - sparse_categorical_accuracy: 0.1687\n",
      "Epoch 18/30\n",
      "75/75 [==============================] - 306s 4s/step - loss: 1.9210 - sparse_categorical_accuracy: 0.1600\n",
      "Epoch 19/30\n",
      "75/75 [==============================] - 303s 4s/step - loss: 1.9204 - sparse_categorical_accuracy: 0.1753\n",
      "Epoch 20/30\n",
      "75/75 [==============================] - 310s 4s/step - loss: 1.9209 - sparse_categorical_accuracy: 0.1673\n",
      "Epoch 21/30\n",
      "75/75 [==============================] - 307s 4s/step - loss: 1.9200 - sparse_categorical_accuracy: 0.1760\n",
      "Epoch 22/30\n",
      "75/75 [==============================] - 308s 4s/step - loss: 1.9205 - sparse_categorical_accuracy: 0.1740\n",
      "Epoch 23/30\n",
      "75/75 [==============================] - 303s 4s/step - loss: 1.9199 - sparse_categorical_accuracy: 0.1733\n",
      "Epoch 24/30\n",
      "75/75 [==============================] - 301s 4s/step - loss: 1.9203 - sparse_categorical_accuracy: 0.1633\n",
      "Epoch 25/30\n",
      "75/75 [==============================] - 301s 4s/step - loss: 1.9195 - sparse_categorical_accuracy: 0.1740\n",
      "Epoch 26/30\n",
      "75/75 [==============================] - 301s 4s/step - loss: 1.9205 - sparse_categorical_accuracy: 0.1820\n",
      "Epoch 27/30\n",
      "75/75 [==============================] - 302s 4s/step - loss: 1.9211 - sparse_categorical_accuracy: 0.1827\n",
      "Epoch 28/30\n",
      "75/75 [==============================] - 303s 4s/step - loss: 1.9206 - sparse_categorical_accuracy: 0.1713\n",
      "Epoch 29/30\n",
      "75/75 [==============================] - 301s 4s/step - loss: 1.9203 - sparse_categorical_accuracy: 0.1787\n",
      "Epoch 30/30\n",
      "75/75 [==============================] - 308s 4s/step - loss: 1.9199 - sparse_categorical_accuracy: 0.1820\n"
     ]
    }
   ],
   "source": [
    "# Note that we provide dg_trainer instead\n",
    "# of x_train, y_train, AND\n",
    "# we slice the validation_data and provide\n",
    "# the inputs/targets as a tuple.\n",
    "epochs = 30\n",
    "history = model.fit(dg_trainer,\n",
    " epochs=epochs,\n",
    " verbose=1)"
   ]
  },
  {
   "cell_type": "code",
   "execution_count": 9,
   "id": "8149a08b-9722-42a9-a1a9-ca816982b036",
   "metadata": {},
   "outputs": [
    {
     "name": "stdout",
     "output_type": "stream",
     "text": [
      "47/47 [==============================] - 25s 508ms/step - loss: 1.9184 - sparse_categorical_accuracy: 0.1820\n",
      "Test loss: 1.9183613061904907\n",
      "Test accuracy: 0.18199999630451202\n"
     ]
    }
   ],
   "source": [
    "# Final Result - Generalization!\n",
    "score = model.evaluate(X, Y, verbose=1)\n",
    "print('Test loss:', score[0])\n",
    "print('Test accuracy:', score[1])"
   ]
  },
  {
   "cell_type": "code",
   "execution_count": 10,
   "id": "071073ea-4c39-4e05-acea-fbba7683d991",
   "metadata": {},
   "outputs": [
    {
     "data": {
      "image/png": "[encoded data removed]",
      "text/plain": [
       "<Figure size 432x288 with 2 Axes>"
      ]
     },
     "metadata": {
      "needs_background": "light"
     },
     "output_type": "display_data"
    }
   ],
   "source": [
    "plt.figure(1)\n",
    "\n",
    "# summarize history for accuracy\n",
    "\n",
    "plt.subplot(211)\n",
    "plt.plot(history.history['sparse_categorical_accuracy'])\n",
    "#plt.plot(history.history['val_sparse_categorical_accuracy'])\n",
    "plt.ylabel('Accuracy (P)')\n",
    "plt.xlabel('Epochs')\n",
    "plt.legend(['Training', 'Validation'], loc='lower right')\n",
    "# summarize history for loss\n",
    "\n",
    "plt.subplot(212)\n",
    "plt.plot(history.history['loss'])\n",
    "#plt.plot(history.history['val_loss'])\n",
    "plt.ylabel('Loss')\n",
    "plt.xlabel('Epochs')\n",
    "plt.legend(['Training', 'Validation'], loc='upper right')\n",
    "plt.tight_layout()\n",
    "plt.show()"
   ]
  }
 ],
 "metadata": {
  "kernelspec": {
   "display_name": "Python 3 (ipykernel)",
   "language": "python",
   "name": "python3"
  },
  "language_info": {
   "codemirror_mode": {
    "name": "ipython",
    "version": 3
   },
   "file_extension": ".py",
   "mimetype": "text/x-python",
   "name": "python",
   "nbconvert_exporter": "python",
   "pygments_lexer": "ipython3",
   "version": "3.9.7"
  }
 },
 "nbformat": 4,
 "nbformat_minor": 5
}
